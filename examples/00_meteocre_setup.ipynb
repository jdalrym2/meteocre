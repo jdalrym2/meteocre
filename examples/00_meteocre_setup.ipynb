{
 "cells": [
  {
   "cell_type": "markdown",
   "metadata": {},
   "source": [
    "## `meteocre` Setup\n",
    "\n",
    "The first time `meteocre` attempts a download, you'll be asked to provide a download directory to use. This folder will then be saved to `$HOME/.meteocre`. This will not be needed again unless you wish to change the download directory.\n",
    "\n",
    "To change the download directory, either modify `$HOME/.meteocre` manually or delete `$HOME/.meteocre` and use the download prompt again."
   ]
  },
  {
   "cell_type": "code",
   "execution_count": 2,
   "metadata": {},
   "outputs": [
    {
     "name": "stdout",
     "output_type": "stream",
     "text": [
      "2022-10-09 12:39:53,262 INFO [__init__] Download directory successfully saved!\n"
     ]
    },
    {
     "data": {
      "text/plain": [
       "PosixPath('/home/jon/data/meteocre_downloads')"
      ]
     },
     "execution_count": 2,
     "metadata": {},
     "output_type": "execute_result"
    }
   ],
   "source": [
    "# Import the library\n",
    "import meteocre\n",
    "\n",
    "# This is the function call that will prompt for a download directory on startup\n",
    "meteocre.get_download_dir()"
   ]
  },
  {
   "cell_type": "code",
   "execution_count": 3,
   "metadata": {},
   "outputs": [
    {
     "data": {
      "text/plain": [
       "PosixPath('/home/jon/data/meteocre_downloads')"
      ]
     },
     "execution_count": 3,
     "metadata": {},
     "output_type": "execute_result"
    }
   ],
   "source": [
    "# To show this worked, we will fetch the download dir again. No prompt!\n",
    "meteocre.get_download_dir()"
   ]
  }
 ],
 "metadata": {
  "kernelspec": {
   "display_name": "Python 3.10.4 ('nwstoolsenv')",
   "language": "python",
   "name": "python3"
  },
  "language_info": {
   "codemirror_mode": {
    "name": "ipython",
    "version": 3
   },
   "file_extension": ".py",
   "mimetype": "text/x-python",
   "name": "python",
   "nbconvert_exporter": "python",
   "pygments_lexer": "ipython3",
   "version": "3.10.4"
  },
  "orig_nbformat": 4,
  "vscode": {
   "interpreter": {
    "hash": "7e65b7caa75bb70cc485da0a6eefd47c356441e8aeab0990e00df4d1f7444685"
   }
  }
 },
 "nbformat": 4,
 "nbformat_minor": 2
}
