{
 "cells": [
  {
   "cell_type": "code",
   "execution_count": 1,
   "id": "032405e6",
   "metadata": {
    "lines_to_next_cell": 0
   },
   "outputs": [],
   "source": [
    "from osgeo import ogr\n",
    "\n",
    "from meteocre.fetchwwa import WWAPolygon"
   ]
  },
  {
   "cell_type": "code",
   "execution_count": 2,
   "id": "c2d1ae35",
   "metadata": {},
   "outputs": [],
   "source": [
    "# TODO: fetch warning shapefile\n",
    "warning_path = '/home/jon/git/meteocre/data/2021_tsmf/wwa_202101010000_202112312359.shp'"
   ]
  },
  {
   "cell_type": "code",
   "execution_count": 3,
   "id": "d3af8d20",
   "metadata": {},
   "outputs": [
    {
     "ename": "AttributeError",
     "evalue": "'NoneType' object has no attribute 'GetLayer'",
     "output_type": "error",
     "traceback": [
      "\u001b[0;31m---------------------------------------------------------------------------\u001b[0m",
      "\u001b[0;31mAttributeError\u001b[0m                            Traceback (most recent call last)",
      "\u001b[1;32m/home/jon/git/meteocre/examples/parse_warning_shapefile.ipynb Cell 3\u001b[0m in \u001b[0;36m<cell line: 2>\u001b[0;34m()\u001b[0m\n\u001b[1;32m      <a href='vscode-notebook-cell:/home/jon/git/meteocre/examples/parse_warning_shapefile.ipynb#W3sZmlsZQ%3D%3D?line=0'>1</a>\u001b[0m ds \u001b[39m=\u001b[39m ogr\u001b[39m.\u001b[39mOpen(warning_path)\n\u001b[0;32m----> <a href='vscode-notebook-cell:/home/jon/git/meteocre/examples/parse_warning_shapefile.ipynb#W3sZmlsZQ%3D%3D?line=1'>2</a>\u001b[0m layer \u001b[39m=\u001b[39m ds\u001b[39m.\u001b[39;49mGetLayer(\u001b[39m0\u001b[39m)\n\u001b[1;32m      <a href='vscode-notebook-cell:/home/jon/git/meteocre/examples/parse_warning_shapefile.ipynb#W3sZmlsZQ%3D%3D?line=3'>4</a>\u001b[0m \u001b[39mfor\u001b[39;00m idx \u001b[39min\u001b[39;00m \u001b[39mrange\u001b[39m(layer\u001b[39m.\u001b[39mGetFeatureCount()):\n\u001b[1;32m      <a href='vscode-notebook-cell:/home/jon/git/meteocre/examples/parse_warning_shapefile.ipynb#W3sZmlsZQ%3D%3D?line=4'>5</a>\u001b[0m     f \u001b[39m=\u001b[39m layer\u001b[39m.\u001b[39mGetFeature(idx)\n",
      "\u001b[0;31mAttributeError\u001b[0m: 'NoneType' object has no attribute 'GetLayer'"
     ]
    }
   ],
   "source": [
    "ds = ogr.Open(warning_path)\n",
    "layer = ds.GetLayer(0)\n",
    "\n",
    "for idx in range(layer.GetFeatureCount()):\n",
    "    f = layer.GetFeature(idx)\n",
    "    p = WWAPolygon.from_ogr_feature(f)\n",
    "    if not p.is_thunderstorm_related:\n",
    "        continue\n",
    "    print(p.phenom_text, p.poly_begin_time)"
   ]
  }
 ],
 "metadata": {
  "jupytext": {
   "cell_metadata_filter": "-all",
   "encoding": "# -*- coding: utf-8 -*-",
   "executable": "/usr/bin/env python3",
   "main_language": "python",
   "notebook_metadata_filter": "-all"
  },
  "kernelspec": {
   "display_name": "Python 3.10.4 ('nwstoolsenv')",
   "language": "python",
   "name": "python3"
  },
  "language_info": {
   "codemirror_mode": {
    "name": "ipython",
    "version": 3
   },
   "file_extension": ".py",
   "mimetype": "text/x-python",
   "name": "python",
   "nbconvert_exporter": "python",
   "pygments_lexer": "ipython3",
   "version": "3.10.4"
  },
  "vscode": {
   "interpreter": {
    "hash": "7e65b7caa75bb70cc485da0a6eefd47c356441e8aeab0990e00df4d1f7444685"
   }
  }
 },
 "nbformat": 4,
 "nbformat_minor": 5
}
