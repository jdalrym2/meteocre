{
 "cells": [
  {
   "cell_type": "code",
   "execution_count": null,
   "id": "d5da1517",
   "metadata": {
    "lines_to_next_cell": 0
   },
   "outputs": [],
   "source": [
    "from meteocre.stormevents import fetch_from_storm_events_archive"
   ]
  },
  {
   "cell_type": "code",
   "execution_count": null,
   "id": "ea2fc1de",
   "metadata": {},
   "outputs": [],
   "source": [
    "# TODO: make this more interesting\n",
    "for query_year in range(2015, 2021 + 1):\n",
    "    print('Getting detailed products for query year %d...' % query_year)\n",
    "    fetch_from_storm_events_archive(query_year, 'details', load=False)"
   ]
  }
 ],
 "metadata": {
  "jupytext": {
   "cell_metadata_filter": "-all",
   "encoding": "# -*- coding: utf-8 -*-",
   "executable": "/usr/bin/env python3",
   "main_language": "python",
   "notebook_metadata_filter": "-all"
  },
  "language_info": {
   "name": "python"
  }
 },
 "nbformat": 4,
 "nbformat_minor": 5
}
