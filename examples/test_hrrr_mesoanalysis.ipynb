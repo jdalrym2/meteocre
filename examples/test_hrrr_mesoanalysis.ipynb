{
 "cells": [
  {
   "cell_type": "code",
   "execution_count": 3,
   "id": "720158ef",
   "metadata": {
    "lines_to_next_cell": 0
   },
   "outputs": [],
   "source": [
    "import matplotlib.pyplot as plt\n",
    "from meteocre.fetchhrrr import HRRRProduct\n",
    "from meteocre.fetchhrrr.mesoanalysis import hrrr_get_supercell_composite_parameter, hrrr_get_significant_tornado_parameter"
   ]
  },
  {
   "cell_type": "code",
   "execution_count": 4,
   "id": "97a301d6",
   "metadata": {},
   "outputs": [],
   "source": [
    "# Load product from file\n",
    "product = HRRRProduct.from_grib2(\n",
    "    '/data/meteocre_downloads/fetchhrrr/2022-04-30/hrrr.t01z.wrfsfcf00.grib2'\n",
    ")"
   ]
  },
  {
   "cell_type": "code",
   "execution_count": 5,
   "id": "aabd5559",
   "metadata": {},
   "outputs": [
    {
     "name": "stdout",
     "output_type": "stream",
     "text": [
      "0...10...20...30...40...50...60...70...80...90...100 - done.\n",
      "Creating output file that is 2269P x 976L.\n",
      "0...10...20...30...40...50...60...70...80...90...100 - done.\n",
      "0...10...20...30...40...50...60...70...80...90...100 - done.\n",
      "Creating output file that is 2269P x 976L.\n",
      "0...10...20...30...40...50...60...70...80...90...100 - done.\n"
     ]
    }
   ],
   "source": [
    "# Compute SCP / STP\n",
    "scp = hrrr_get_supercell_composite_parameter(product)\n",
    "stp = hrrr_get_significant_tornado_parameter(product)"
   ]
  },
  {
   "cell_type": "code",
   "execution_count": 7,
   "id": "c63957dd",
   "metadata": {},
   "outputs": [
    {
     "name": "stdout",
     "output_type": "stream",
     "text": [
      "Using matplotlib backend: <object object at 0x7ff16c6875a0>\n"
     ]
    }
   ],
   "source": [
    "%matplotlib inline\n",
    "fig, ax = plt.subplots(2, 1, sharex=True, sharey=True)\n",
    "ax[0].imshow(scp)\n",
    "ax[1].imshow(stp)\n",
    "plt.show()"
   ]
  }
 ],
 "metadata": {
  "jupytext": {
   "cell_metadata_filter": "-all",
   "encoding": "# -*- coding: utf-8 -*-",
   "executable": "/usr/bin/env python3",
   "main_language": "python",
   "notebook_metadata_filter": "-all"
  },
  "kernelspec": {
   "display_name": "Python 3.10.4 ('nwstoolsenv')",
   "language": "python",
   "name": "python3"
  },
  "language_info": {
   "codemirror_mode": {
    "name": "ipython",
    "version": 3
   },
   "file_extension": ".py",
   "mimetype": "text/x-python",
   "name": "python",
   "nbconvert_exporter": "python",
   "pygments_lexer": "ipython3",
   "version": "3.10.4"
  },
  "vscode": {
   "interpreter": {
    "hash": "7e65b7caa75bb70cc485da0a6eefd47c356441e8aeab0990e00df4d1f7444685"
   }
  }
 },
 "nbformat": 4,
 "nbformat_minor": 5
}
