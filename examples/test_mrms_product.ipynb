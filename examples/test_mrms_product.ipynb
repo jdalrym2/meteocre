{
 "cells": [
  {
   "cell_type": "code",
   "execution_count": 1,
   "id": "ab6a0909",
   "metadata": {
    "lines_to_next_cell": 0
   },
   "outputs": [],
   "source": [
    "import pathlib\n",
    "import matplotlib.pyplot as plt\n",
    "\n",
    "from meteocre.fetchmrms import MRMSRotationProduct, MRMSReflectivityProduct, MRMSSevereHailIndexProduct, MRMSMaximumExpectedSizeOfHailProduct\n",
    "from meteocre.fetchmrms.colormaps import mrms_rotation_cmap"
   ]
  },
  {
   "cell_type": "code",
   "execution_count": 2,
   "id": "b276b24a",
   "metadata": {},
   "outputs": [
    {
     "ename": "FileNotFoundError",
     "evalue": "Could not find GRIB2 file: /home/jon/workspace/storm_router/case_studies/Andover_Tornado_042922/MRMS/raw/MergedBaseReflectivityQC/MRMS_MergedBaseReflectivityQC_00.50_20220430-055811.grib2.gz",
     "output_type": "error",
     "traceback": [
      "\u001b[0;31m---------------------------------------------------------------------------\u001b[0m",
      "\u001b[0;31mFileNotFoundError\u001b[0m                         Traceback (most recent call last)",
      "\u001b[1;32m/home/jon/git/meteocre/examples/test_mrms_product.ipynb Cell 2\u001b[0m in \u001b[0;36m<cell line: 8>\u001b[0;34m()\u001b[0m\n\u001b[1;32m      <a href='vscode-notebook-cell:/home/jon/git/meteocre/examples/test_mrms_product.ipynb#W4sZmlsZQ%3D%3D?line=0'>1</a>\u001b[0m bounds \u001b[39m=\u001b[39m (\u001b[39m-\u001b[39m\u001b[39m102.0506\u001b[39m, \u001b[39m36.9927\u001b[39m, \u001b[39m-\u001b[39m\u001b[39m94.6046\u001b[39m, \u001b[39m40.0087\u001b[39m)\n\u001b[1;32m      <a href='vscode-notebook-cell:/home/jon/git/meteocre/examples/test_mrms_product.ipynb#W4sZmlsZQ%3D%3D?line=1'>2</a>\u001b[0m grib2_path \u001b[39m=\u001b[39m pathlib\u001b[39m.\u001b[39mPath(\n\u001b[1;32m      <a href='vscode-notebook-cell:/home/jon/git/meteocre/examples/test_mrms_product.ipynb#W4sZmlsZQ%3D%3D?line=2'>3</a>\u001b[0m     \u001b[39m'\u001b[39m\u001b[39m/home/jon/workspace/storm_router/case_studies/Andover_Tornado_042922/MRMS/raw/MergedBaseReflectivityQC/MRMS_MergedBaseReflectivityQC_00.50_20220430-055811.grib2.gz\u001b[39m\u001b[39m'\u001b[39m\n\u001b[1;32m      <a href='vscode-notebook-cell:/home/jon/git/meteocre/examples/test_mrms_product.ipynb#W4sZmlsZQ%3D%3D?line=3'>4</a>\u001b[0m      \u001b[39m#'/home/jon/git/meteocre/data/MRMS/2022043001/CONUS/MergedBaseReflectivityQC/MRMS_MergedBaseReflectivityQC_00.50_20220430-013004.grib2.gz'\u001b[39;00m\n\u001b[1;32m      <a href='vscode-notebook-cell:/home/jon/git/meteocre/examples/test_mrms_product.ipynb#W4sZmlsZQ%3D%3D?line=4'>5</a>\u001b[0m      \u001b[39m#'/home/jon/git/meteocre/data/MRMS/2022043001/CONUS/SHI/MRMS_SHI_00.50_20220430-013038.grib2.gz'\u001b[39;00m\n\u001b[1;32m      <a href='vscode-notebook-cell:/home/jon/git/meteocre/examples/test_mrms_product.ipynb#W4sZmlsZQ%3D%3D?line=5'>6</a>\u001b[0m      \u001b[39m#'/home/jon/git/meteocre/data/MRMS/2022043001/CONUS/MESH/MRMS_MESH_00.50_20220430-013038.grib2.gz'\u001b[39;00m\n\u001b[1;32m      <a href='vscode-notebook-cell:/home/jon/git/meteocre/examples/test_mrms_product.ipynb#W4sZmlsZQ%3D%3D?line=6'>7</a>\u001b[0m )\n\u001b[0;32m----> <a href='vscode-notebook-cell:/home/jon/git/meteocre/examples/test_mrms_product.ipynb#W4sZmlsZQ%3D%3D?line=7'>8</a>\u001b[0m p \u001b[39m=\u001b[39m MRMSReflectivityProduct\u001b[39m.\u001b[39;49mfrom_grib2(grib2_path)\n",
      "File \u001b[0;32m~/miniconda3/envs/nwstoolsenv/lib/python3.10/site-packages/meteocre/fetchmrms/mrms_product.py:268\u001b[0m, in \u001b[0;36mMRMSProduct.from_grib2\u001b[0;34m(cls, grib2_path)\u001b[0m\n\u001b[1;32m    266\u001b[0m grib2_path \u001b[39m=\u001b[39m pathlib\u001b[39m.\u001b[39mPath(grib2_path)\n\u001b[1;32m    267\u001b[0m \u001b[39mif\u001b[39;00m \u001b[39mnot\u001b[39;00m grib2_path\u001b[39m.\u001b[39mexists():\n\u001b[0;32m--> 268\u001b[0m     \u001b[39mraise\u001b[39;00m \u001b[39mFileNotFoundError\u001b[39;00m(\u001b[39m'\u001b[39m\u001b[39mCould not find GRIB2 file: \u001b[39m\u001b[39m%s\u001b[39;00m\u001b[39m'\u001b[39m \u001b[39m%\u001b[39m\n\u001b[1;32m    269\u001b[0m                             \u001b[39mstr\u001b[39m(grib2_path))\n\u001b[1;32m    271\u001b[0m \u001b[39m# Verify it is a GRIB2 suffix, and whether or not it it gzipped\u001b[39;00m\n\u001b[1;32m    272\u001b[0m is_gz \u001b[39m=\u001b[39m \u001b[39mlen\u001b[39m(grib2_path\u001b[39m.\u001b[39msuffixes) \u001b[39m>\u001b[39m\u001b[39m=\u001b[39m \u001b[39m2\u001b[39m \u001b[39mand\u001b[39;00m grib2_path\u001b[39m.\u001b[39msuffixes[\u001b[39m-\u001b[39m\u001b[39m2\u001b[39m:] \u001b[39m==\u001b[39m [\n\u001b[1;32m    273\u001b[0m     \u001b[39m'\u001b[39m\u001b[39m.grib2\u001b[39m\u001b[39m'\u001b[39m, \u001b[39m'\u001b[39m\u001b[39m.gz\u001b[39m\u001b[39m'\u001b[39m\n\u001b[1;32m    274\u001b[0m ]\n",
      "\u001b[0;31mFileNotFoundError\u001b[0m: Could not find GRIB2 file: /home/jon/workspace/storm_router/case_studies/Andover_Tornado_042922/MRMS/raw/MergedBaseReflectivityQC/MRMS_MergedBaseReflectivityQC_00.50_20220430-055811.grib2.gz"
     ]
    }
   ],
   "source": [
    "bounds = (-102.0506, 36.9927, -94.6046, 40.0087)\n",
    "grib2_path = pathlib.Path(\n",
    "    '/data/storm_router/case_studies/Andover_Tornado_042922/MRMS/raw/MergedBaseReflectivityQC/MRMS_MergedBaseReflectivityQC_00.50_20220430-055811.grib2.gz'\n",
    "     #'/home/jon/git/meteocre/data/MRMS/2022043001/CONUS/MergedBaseReflectivityQC/MRMS_MergedBaseReflectivityQC_00.50_20220430-013004.grib2.gz'\n",
    "     #'/home/jon/git/meteocre/data/MRMS/2022043001/CONUS/SHI/MRMS_SHI_00.50_20220430-013038.grib2.gz'\n",
    "     #'/home/jon/git/meteocre/data/MRMS/2022043001/CONUS/MESH/MRMS_MESH_00.50_20220430-013038.grib2.gz'\n",
    ")\n",
    "p = MRMSReflectivityProduct.from_grib2(grib2_path)"
   ]
  },
  {
   "cell_type": "code",
   "execution_count": null,
   "id": "88f40876",
   "metadata": {},
   "outputs": [],
   "source": [
    "fig, ax = p.plot_default(bounds=bounds, save_path=None)\n",
    "fig.set_size_inches((16, 6))\n",
    "plt.show()"
   ]
  }
 ],
 "metadata": {
  "jupytext": {
   "cell_metadata_filter": "-all",
   "encoding": "# -*- coding: utf-8 -*-",
   "executable": "/usr/bin/env python3",
   "main_language": "python",
   "notebook_metadata_filter": "-all"
  },
  "kernelspec": {
   "display_name": "Python 3.10.4 ('nwstoolsenv')",
   "language": "python",
   "name": "python3"
  },
  "language_info": {
   "codemirror_mode": {
    "name": "ipython",
    "version": 3
   },
   "file_extension": ".py",
   "mimetype": "text/x-python",
   "name": "python",
   "nbconvert_exporter": "python",
   "pygments_lexer": "ipython3",
   "version": "3.10.4"
  },
  "vscode": {
   "interpreter": {
    "hash": "7e65b7caa75bb70cc485da0a6eefd47c356441e8aeab0990e00df4d1f7444685"
   }
  }
 },
 "nbformat": 4,
 "nbformat_minor": 5
}
